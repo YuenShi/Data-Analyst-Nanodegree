{
 "cells": [
  {
   "cell_type": "markdown",
   "metadata": {},
   "source": [
    "# Read Data"
   ]
  },
  {
   "cell_type": "code",
   "execution_count": 23,
   "metadata": {
    "collapsed": false
   },
   "outputs": [],
   "source": [
    "#!/usr/bin/env python\n",
    "# -*- coding: utf-8 -*-\n",
    "from collections import defaultdict\n",
    "import xml.etree.ElementTree as ET  # Use cElementTree or lxml if too slow\n",
    "import re\n",
    "import pprint\n",
    "\n",
    "OSM_FILE = \"shanghai_china.osm\"  \n",
    "SAMPLE_FILE = \"sample.osm\"\n",
    "#iterate the tag of the file and count the total number of these tags\n",
    "k = 10 \n",
    "unique_tags = ['node', 'nd', 'bounds', 'member', 'tag', 'relation', 'way', 'osm']\n",
    "tags = {}\n",
    "for event,elem in ET.iterparse(OSM_FILE):\n",
    "    #if elem.tag=='node':\n",
    "    if elem.tag not in tags:\n",
    "        tags[elem.tag] = 1\n",
    "    else:\n",
    "        tags[elem.tag] = tags[elem.tag] + 1"
   ]
  },
  {
   "cell_type": "code",
   "execution_count": 5,
   "metadata": {
    "collapsed": false
   },
   "outputs": [
    {
     "data": {
      "text/plain": [
       "{'bounds': 1,\n",
       " 'member': 47782,\n",
       " 'nd': 3516830,\n",
       " 'node': 2978675,\n",
       " 'osm': 1,\n",
       " 'relation': 2298,\n",
       " 'tag': 1097138,\n",
       " 'way': 361842}"
      ]
     },
     "execution_count": 5,
     "metadata": {},
     "output_type": "execute_result"
    }
   ],
   "source": [
    "tags"
   ]
  },
  {
   "cell_type": "code",
   "execution_count": 24,
   "metadata": {
    "collapsed": true
   },
   "outputs": [],
   "source": [
    "#a function to get specific element whose tag is node, way or relation\n",
    "def get_element(osm_file, tags=( 'node', 'way', 'relation')):\n",
    "    \"\"\"Yield element if it is the right type of tag\n",
    "\n",
    "    Reference:\n",
    "    http://stackoverflow.com/questions/3095434/inserting-newlines-in-xml-file-generated-via-xml-etree-elementtree-in-python\n",
    "    \"\"\"\n",
    "    context = iter(ET.iterparse(osm_file, events=('start', 'end')))\n",
    "    _, root = next(context)\n",
    "    for event, elem in context:\n",
    "        if event == 'end' and elem.tag in tags:\n",
    "            yield elem\n",
    "            root.clear()"
   ]
  },
  {
   "cell_type": "code",
   "execution_count": 8,
   "metadata": {
    "collapsed": true
   },
   "outputs": [],
   "source": [
    "#extract some data from the original dataset and write these data to sample.osm\n",
    "with open(SAMPLE_FILE, 'wb') as output:\n",
    "    output.write('<?xml version=\"1.0\" encoding=\"UTF-8\"?>\\n')\n",
    "    output.write('<osm>\\n  ')\n",
    "\n",
    "    # Write every kth top level element\n",
    "    for i, element in enumerate(get_element(OSM_FILE)):\n",
    "        if i % k == 0:\n",
    "            output.write(ET.tostring(element, encoding='utf-8'))\n",
    "\n",
    "    output.write('</osm>')"
   ]
  },
  {
   "cell_type": "code",
   "execution_count": 18,
   "metadata": {
    "collapsed": true
   },
   "outputs": [],
   "source": [
    "#check the child tag of each element in the sample file\n",
    "children = {}\n",
    "for event,elem in ET.iterparse(SAMPLE_FILE):\n",
    "    for child in elem:\n",
    "        if child.tag not in children:\n",
    "            children[child.tag] = 1\n",
    "        else:\n",
    "            children[child.tag] = children[child.tag] + 1"
   ]
  },
  {
   "cell_type": "code",
   "execution_count": 19,
   "metadata": {
    "collapsed": false
   },
   "outputs": [
    {
     "data": {
      "text/plain": [
       "{'member': 5088,\n",
       " 'nd': 355784,\n",
       " 'node': 297868,\n",
       " 'relation': 230,\n",
       " 'tag': 109538,\n",
       " 'way': 36184}"
      ]
     },
     "execution_count": 19,
     "metadata": {},
     "output_type": "execute_result"
    }
   ],
   "source": [
    "children"
   ]
  },
  {
   "cell_type": "markdown",
   "metadata": {},
   "source": [
    "# Audit Street Name"
   ]
  },
  {
   "cell_type": "code",
   "execution_count": 1,
   "metadata": {
    "collapsed": false
   },
   "outputs": [],
   "source": [
    "import xml.etree.cElementTree as ET\n",
    "import pprint\n",
    "import re\n",
    "import codecs\n",
    "import json\n",
    "\n",
    "#regular expression used to check the dataset\n",
    "lower = re.compile(r'^([a-z]|_)*$')\n",
    "lower_colon = re.compile(r'^([a-z]|_)*:([a-z]|_)*$')\n",
    "problemchars = re.compile(r'[=\\+/&<>;\\'\"\\?%#$@\\,\\. \\t\\r\\n]')\n",
    "\n",
    "CREATED = [ \"version\", \"changeset\", \"timestamp\", \"user\", \"uid\"]\n",
    "\n",
    "street_type_re = re.compile(r'\\b\\S+\\.?$', re.IGNORECASE)\n",
    "housenumber_type_re = re.compile(r'^\\d+')\n",
    "postcode_type_re = re.compile(r'^\\d+')\n",
    "\n",
    "expected = [\"Street\", \"Avenue\", \"Boulevard\", \"Drive\", \"Court\", \"Place\", \"Square\", \"Lane\", \"Road\", \n",
    "            \"Trail\", \"Parkway\", \"Commons\"]\n",
    "\n",
    "# UPDATE THIS VARIABLE\n",
    "mapping = { \"St\":\"Street\",\n",
    "            \"St.\":\"Street\",\n",
    "            \"street\":\"Street\",\n",
    "            \"Ave\":\"Avenue\",\n",
    "            \"AVE\":\"Avenue\",\n",
    "            \"Ave.\":\"Avenue\",\n",
    "            \"ave\":\"Avenue\",\n",
    "            \"garden\":\"Garder\",\n",
    "            \"Rd. \":\"Road\",\n",
    "            \"Rd.\":\"Road\",\n",
    "            \"Rd,\":\"Road\",\n",
    "            \"Rd\":\"Road\",\n",
    "            \"lu\":\"Road\",\n",
    "            \"lu \":\"Road\",\n",
    "            \"Lu\":\"Road\",\n",
    "            \"rd\":\"Road\",\n",
    "            \"road\":\"Road\"}\n",
    "\n"
   ]
  },
  {
   "cell_type": "code",
   "execution_count": 27,
   "metadata": {
    "collapsed": true
   },
   "outputs": [],
   "source": [
    "\n",
    "def audit_street_type(street_types, street_name):\n",
    "    m = street_type_re.search(street_name)\n",
    "    if m:\n",
    "        street_type = m.group()\n",
    "        if street_type not in expected:\n",
    "            street_types[street_type].add(street_name)\n",
    "\n",
    "#find out the element whose key is \"addr:street\"\n",
    "def is_street_name(elem):\n",
    "    return (elem.attrib['k'] == \"addr:street\")\n",
    "\n",
    "\n",
    "def audit(osmfile):\n",
    "    osm_file = open(osmfile, \"r\")\n",
    "    street_types = defaultdict(set)\n",
    "    for event, elem in ET.iterparse(osm_file, events=(\"start\",)):\n",
    "        if elem.tag == \"node\" or elem.tag == \"way\":\n",
    "            for tag in elem.iter(\"tag\"):\n",
    "                if is_street_name(tag):\n",
    "                    audit_street_type(street_types, tag.attrib['v'])\n",
    "    osm_file.close()\n",
    "    return street_types\n",
    "\n",
    "#update the street name according to mapping\n",
    "def update_name(name, mapping):\n",
    "    m = street_type_re.search(name)\n",
    "    other_street_types = [ ]\n",
    "    if m:\n",
    "        street_type= m.group( )\n",
    "    if street_type in mapping.keys( ):\n",
    "        name = re.sub(street_type,mapping[street_type],name)\n",
    "    else:\n",
    "        other_street_types.append(street_type)\n",
    "    return name"
   ]
  },
  {
   "cell_type": "code",
   "execution_count": 18,
   "metadata": {
    "collapsed": false
   },
   "outputs": [],
   "source": [
    "#audit housenumber\n",
    "def audit_housenumber(housenumber_types, housenumber): \n",
    "    m = housenumber_type_re.search(housenumber)\n",
    "    if m:\n",
    "        housenumber_type = m.group()\n",
    "        if housenumber_type not in expected:\n",
    "            housenumber_types[housenumber_type].add(housenumber)\n",
    "\n",
    "def is_housenumber(elem):\n",
    "    return (elem.attrib['k'] == \"addr:housenumber\")\n",
    "\n",
    "def audit_h(osmfile):\n",
    "    osm_file = open(osmfile, \"r\")\n",
    "    housenumber_types = defaultdict(set)\n",
    "    for event, elem in ET.iterparse(osm_file, events=(\"start\",)):\n",
    "        if elem.tag == \"node\" or elem.tag == \"way\": \n",
    "            for tag in elem.iter(\"tag\"):\n",
    "                if is_housenumber(tag):\n",
    "                    audit_housenumber(housenumber_types, tag.attrib['v'])\n",
    "    return housenumber_types"
   ]
  },
  {
   "cell_type": "code",
   "execution_count": 61,
   "metadata": {
    "collapsed": false
   },
   "outputs": [],
   "source": [
    "import sys\n",
    "reload(sys)\n",
    "sys.setdefaultencoding('utf-8') \n",
    "\n",
    "hanzi=re.compile(u'[\\u4e00-\\u9fa5]');\n",
    "\n",
    "#update house number\n",
    "def update_number(housenumber): \n",
    "    if '-' in housenumber:\n",
    "        convert = housenumber.split('-')[0]\n",
    "        return convert\n",
    "    elif ';' in housenumber:\n",
    "        convert = housenumber.split(';')[0]\n",
    "        return convert\n",
    "    elif ' ' in housenumber:\n",
    "        convert = housenumber.split()[0]\n",
    "        return convert\n",
    "    elif re.findall(ur\"[\\u4e00-\\u9fa5]\",housenumber.decode('utf-8')):\n",
    "        convert = hanzi.sub(\"\", housenumber.decode('utf-8'))\n",
    "        return convert\n",
    "    else:\n",
    "        return housenumber\n"
   ]
  },
  {
   "cell_type": "code",
   "execution_count": 17,
   "metadata": {
    "collapsed": true
   },
   "outputs": [],
   "source": [
    "#audit postcode\n",
    "def audit_postcode(postcode_types, postcode): \n",
    "    m = postcode_type_re.search(postcode)\n",
    "    if m:\n",
    "        postcode_type = m.group()\n",
    "        if postcode_type not in expected:\n",
    "            postcode_types[postcode_type].add(postcode)\n",
    "\n",
    "def is_postcode(elem):\n",
    "    return (elem.attrib['k'] == \"addr:postcode\")\n",
    "\n",
    "def audit_p(osmfile):\n",
    "    osm_file = open(osmfile, \"r\")\n",
    "    postcode_types = defaultdict(set)\n",
    "    for event, elem in ET.iterparse(osm_file, events=(\"start\",)):\n",
    "        if elem.tag == \"node\" or elem.tag == \"way\": \n",
    "            for tag in elem.iter(\"tag\"):\n",
    "                if is_postcode(tag):\n",
    "                    audit_postcode(postcode_types, tag.attrib['v'])\n",
    "    return postcode_types"
   ]
  },
  {
   "cell_type": "code",
   "execution_count": 63,
   "metadata": {
    "collapsed": true
   },
   "outputs": [],
   "source": [
    "#update postcode\n",
    "def update_postcode(postcode):\n",
    "    if len(postcode) > 6:\n",
    "        return postcode[:6]\n",
    "    elif re.findall(ur\"[\\u4e00-\\u9fa5]\",postcode.decode('utf-8')):\n",
    "        convert = hanzi.sub(\"\", housenumber.decode('utf-8'))\n",
    "        return convert\n",
    "    else:\n",
    "        return postcode"
   ]
  },
  {
   "cell_type": "code",
   "execution_count": 28,
   "metadata": {
    "collapsed": false
   },
   "outputs": [],
   "source": [
    "from collections import defaultdict\n",
    "OSM_FILE = \"shanghai_china.osm\"\n",
    "st_types = audit(OSM_FILE)\n",
    "\n",
    "#update the street name\n",
    "for st_type, ways in st_types.iteritems():\n",
    "    for name in ways:\n",
    "        better_name = update_name(name, mapping)\n",
    "        print name, \"=>\", better_name\n"
   ]
  },
  {
   "cell_type": "code",
   "execution_count": 62,
   "metadata": {
    "collapsed": false
   },
   "outputs": [],
   "source": [
    "#update the house number\n",
    "hn_types = audit_h(OSM_FILE)\n",
    "for hn_type, numbers in hn_types.iteritems():\n",
    "    for number in numbers:\n",
    "        better_number = update_number(number)\n",
    "        print number, \"=>\", better_number"
   ]
  },
  {
   "cell_type": "code",
   "execution_count": 64,
   "metadata": {
    "collapsed": false
   },
   "outputs": [],
   "source": [
    "#update the postcode\n",
    "pc_types = audit_p(OSM_FILE)\n",
    "for pc_type, ways in pc_types.iteritems():\n",
    "        for code in ways:\n",
    "            better_code = update_postcode(code)\n",
    "            print code, \"=>\", better_code"
   ]
  },
  {
   "cell_type": "code",
   "execution_count": 89,
   "metadata": {
    "collapsed": false
   },
   "outputs": [],
   "source": [
    "#define the structure of the data I want to extract\n",
    "def shape_element(element):\n",
    "    node = {}\n",
    "    created={\"version\":None,\n",
    "            \"changeset\":None,\n",
    "            \"timestamp\":None,\n",
    "            \"user\":None,\n",
    "            \"uid\":None}\n",
    "    pos = [None,None]\n",
    "    address={}\n",
    "    name ={}\n",
    "    building={}\n",
    "    roof={}\n",
    "    node_refs = []\n",
    "    if element.tag == \"node\" or element.tag == \"way\" :\n",
    "        node['type']=element.tag\n",
    "        for key in element.attrib:\n",
    "            m = re.search(problemchars, element.attrib[key])\n",
    "            if m:\n",
    "                continue\n",
    "            elif key in CREATED:\n",
    "                created[key] = element.attrib[key]\n",
    "            elif key == 'lat':\n",
    "                pos[0] = float(element.attrib[key])\n",
    "            elif key == 'lon':\n",
    "                pos[1] = float(element.attrib[key])\n",
    "            else:\n",
    "                node[key] = element.attrib[key]    \n",
    "        if created:\n",
    "            node['created'] = created\n",
    "        if pos:\n",
    "            node['pos'] = pos\n",
    "        #iterate the tag and extract key-value pair    \n",
    "        for tag in element.iter('tag'):\n",
    "            match = re.search(problemchars, tag.attrib['k'])\n",
    "            if match:\n",
    "                continue\n",
    "            else:\n",
    "                #if 'k' is like attr1:attr2:attr3, only extract the first two attributes.\n",
    "                if \"addr:\" in tag.attrib['k']:\n",
    "                    key_split = []\n",
    "                    key_split = tag.attrib['k'].split(\":\")\n",
    "                    if len(key_split) <= 2:\n",
    "                        key = key_split[1]\n",
    "                        address[key] = tag.attrib['v']\n",
    "                elif \"name:\" in tag.attrib['k']:\n",
    "                    key_split = []\n",
    "                    key_split = tag.attrib['k'].split(\":\")\n",
    "                    if len(key_split) <= 2:\n",
    "                        key = key_split[1]\n",
    "                        name[key] = tag.attrib['v']\n",
    "                elif \"building:\" in tag.attrib['k']:\n",
    "                    key_split = []\n",
    "                    key_split = tag.attrib['k'].split(\":\")\n",
    "                    if len(key_split) <= 2:\n",
    "                        key = key_split[1]\n",
    "                        building[key] = tag.attrib['v']\n",
    "                elif \"roof:\" in tag.attrib['k']:\n",
    "                    key_split = []\n",
    "                    key_split = tag.attrib['k'].split(\":\")\n",
    "                    if len(key_split) <= 2:\n",
    "                        key = key_split[1]\n",
    "                        roof[key] = tag.attrib['v']\n",
    "                elif \":\" not in tag.attrib['k']:\n",
    "                    node[tag.attrib['k']] = tag.attrib['v']\n",
    "        # add values like attr1:{attr2:\"\"} to node\n",
    "        if address:\n",
    "            node['address'] = address \n",
    "        if name:\n",
    "            node['name'] = name\n",
    "        if building:\n",
    "            node['building'] = building\n",
    "        if roof:\n",
    "            node['roof'] = roof \n",
    "        if element.tag == \"way\":\n",
    "            for child in element:\n",
    "                if child.tag == 'nd':\n",
    "                    if child.get('ref'):\n",
    "                        node_refs.append(child.attrib['ref'])\n",
    "        if node_refs:\n",
    "            node['node_refs'] = node_refs\n",
    "        return node\n",
    "    else:\n",
    "        return None"
   ]
  },
  {
   "cell_type": "code",
   "execution_count": 90,
   "metadata": {
    "collapsed": true
   },
   "outputs": [],
   "source": [
    "def process_map(file_in, pretty = False):\n",
    "    # a function to process the dataset and write it to a json file\n",
    "    file_out = \"{0}.json\".format(file_in)\n",
    "    data = []\n",
    "    with codecs.open(file_out, \"w\") as fo:\n",
    "        for _, element in ET.iterparse(file_in):\n",
    "            el = shape_element(element)\n",
    "            if el:\n",
    "                data.append(el)\n",
    "                if pretty:\n",
    "                    fo.write(json.dumps(el, indent=2)+\"\\n\")\n",
    "                else:\n",
    "                    fo.write(json.dumps(el) + \"\\n\")\n",
    "    return data"
   ]
  },
  {
   "cell_type": "code",
   "execution_count": 91,
   "metadata": {
    "collapsed": false
   },
   "outputs": [
    {
     "name": "stdout",
     "output_type": "stream",
     "text": [
      "{'created': {'changeset': '43600625',\n",
      "             'timestamp': '2016-11-13T10:11:41Z',\n",
      "             'uid': '1804331',\n",
      "             'user': 'daxigua',\n",
      "             'version': '1'},\n",
      " 'highway': 'motorway',\n",
      " 'id': '453004842',\n",
      " 'maxspeed': '120',\n",
      " 'name': {'en': 'Tongyang Expressway'},\n",
      " 'node_refs': ['3919826273', '3283358899', '3283358900'],\n",
      " 'oneway': 'yes',\n",
      " 'pos': [None, None],\n",
      " 'ref': 'S19',\n",
      " 'type': 'way'}\n"
     ]
    }
   ],
   "source": [
    "# process the dataset and check one example\n",
    "SAMPLE_FILE = \"sample.osm\"\n",
    "data = process_map(SAMPLE_FILE, True)\n",
    "pprint.pprint(data[-100])"
   ]
  },
  {
   "cell_type": "code",
   "execution_count": 28,
   "metadata": {
    "collapsed": false
   },
   "outputs": [],
   "source": [
    "# start mongodb \n",
    "#1. cd /usr/local/Cellar/mongodb/3.2.11/bin/    Reference: http://cnodejs.org/topic/5504f44c73263b0e4eef9ca0\n",
    "#2. sudo ./mongod\n",
    "#3. open another terminal\n",
    "#4. cd /usr/local/Cellar/mongodb/3.2.11/bin/\n",
    "#5. sudo mongo\n",
    "#6. cd kris/Desktop/project3/   Reference: https://discussions.udacity.com/t/unable-to-import-json-file-syntaxerror-missing-before-statement-shell-1-14/41246\n",
    "#7. mongoimport --host=127.0.0.1 --db osm --collection osm_data --type json --file sample.osm.json\n"
   ]
  },
  {
   "cell_type": "code",
   "execution_count": 1,
   "metadata": {
    "collapsed": false
   },
   "outputs": [
    {
     "name": "stdout",
     "output_type": "stream",
     "text": [
      "Number of documents\n",
      "334052\n"
     ]
    }
   ],
   "source": [
    "#Reference: https://discussions.udacity.com/t/pymongo-producing-null-output-p3/41237/2\n",
    "\n",
    "from pymongo import MongoClient\n",
    "from pprint import pprint\n",
    "import pymongo\n",
    "\n",
    "#use mongodb to count the total number of the documents\n",
    "client=MongoClient(\"localhost\", 27017)\n",
    "db = client.osm\n",
    "coll = db.osm_data\n",
    "\n",
    "print \"Number of documents\"                                                \n",
    "print  coll.find().count()\n"
   ]
  },
  {
   "cell_type": "code",
   "execution_count": 68,
   "metadata": {
    "collapsed": false
   },
   "outputs": [
    {
     "name": "stdout",
     "output_type": "stream",
     "text": [
      "Number of ways\n",
      "36162\n"
     ]
    }
   ],
   "source": [
    "# find the number of nodes whose type is \"way\"\n",
    "way = coll.find({\"type\":\"way\"})\n",
    "print \"Number of ways\"\n",
    "print way.count()"
   ]
  },
  {
   "cell_type": "code",
   "execution_count": 69,
   "metadata": {
    "collapsed": false
   },
   "outputs": [
    {
     "name": "stdout",
     "output_type": "stream",
     "text": [
      "Number of nodes\n",
      "297858\n"
     ]
    }
   ],
   "source": [
    "# find the number of nodes whose type is \"node\"\n",
    "node = coll.find({\"type\":\"node\"})\n",
    "print \"Number of nodes\"\n",
    "print node.count()"
   ]
  },
  {
   "cell_type": "code",
   "execution_count": 97,
   "metadata": {
    "collapsed": false
   },
   "outputs": [
    {
     "name": "stdout",
     "output_type": "stream",
     "text": [
      "Number of unique created user\n",
      "1263\n"
     ]
    }
   ],
   "source": [
    "# find the number of unique users who create the node\n",
    "created_user = coll.distinct(\"created.user\")\n",
    "print \"Number of unique created user\"\n",
    "print len(created_user)"
   ]
  },
  {
   "cell_type": "code",
   "execution_count": 3,
   "metadata": {
    "collapsed": true
   },
   "outputs": [],
   "source": [
    "from pprint import PrettyPrinter\n",
    "\n",
    "pprinter = PrettyPrinter()"
   ]
  },
  {
   "cell_type": "code",
   "execution_count": 99,
   "metadata": {
    "collapsed": false
   },
   "outputs": [
    {
     "data": {
      "text/plain": [
       "[\"{u'_id': u'Chen Jia', u'count': 52675}\",\n",
       " \"{u'_id': u'aighes', u'count': 18555}\",\n",
       " \"{u'_id': u'katpatuka', u'count': 13479}\",\n",
       " \"{u'_id': u'XBear', u'count': 12720}\",\n",
       " \"{u'_id': u'yangfl', u'count': 11303}\",\n",
       " \"{u'_id': u'Holywindon', u'count': 10270}\",\n",
       " \"{u'_id': u'dkt', u'count': 10220}\",\n",
       " \"{u'_id': u'u_kubota', u'count': 9398}\",\n",
       " \"{u'_id': u'jamesks', u'count': 8529}\",\n",
       " \"{u'_id': u'zzcolin', u'count': 8364}\"]"
      ]
     },
     "execution_count": 99,
     "metadata": {},
     "output_type": "execute_result"
    }
   ],
   "source": [
    "#count the number of record created by unique users and display the top 10 contributor\n",
    "#Top 10 contributing user\n",
    "top_10_contributor = coll.aggregate([{'$group':{'_id':'$created.user',\n",
    "                                               'count':{'$sum':1}}},\n",
    "                                    {'$sort':{'count':-1}},\n",
    "                                    {'$limit':10}])\n",
    "[pprinter.pformat(c) for c in top_10_contributor]"
   ]
  },
  {
   "cell_type": "code",
   "execution_count": 102,
   "metadata": {
    "collapsed": false
   },
   "outputs": [
    {
     "data": {
      "text/plain": [
       "[\"{u'_id': u'bicycle_rental', u'count': 238}\",\n",
       " \"{u'_id': u'restaurant', u'count': 132}\",\n",
       " \"{u'_id': u'parking', u'count': 126}\",\n",
       " \"{u'_id': u'school', u'count': 122}\",\n",
       " \"{u'_id': u'bank', u'count': 57}\",\n",
       " \"{u'_id': u'toilets', u'count': 40}\",\n",
       " \"{u'_id': u'fuel', u'count': 33}\",\n",
       " \"{u'_id': u'hospital', u'count': 32}\",\n",
       " \"{u'_id': u'fast_food', u'count': 31}\",\n",
       " \"{u'_id': u'cafe', u'count': 30}\"]"
      ]
     },
     "execution_count": 102,
     "metadata": {},
     "output_type": "execute_result"
    }
   ],
   "source": [
    "#count the number of different amenities and display the top 10 amenity\n",
    "#Top 10 amenity\n",
    "top_10_amenity = coll.aggregate([{'$match':{'amenity':{'$exists':1}}},\n",
    "                                 {'$group':{'_id':'$amenity',\n",
    "                                           'count':{'$sum':1}}},\n",
    "                                {'$sort':{'count':-1}},\n",
    "                                {'$limit':10}])\n",
    "[pprinter.pformat(a) for a in top_10_amenity]"
   ]
  },
  {
   "cell_type": "code",
   "execution_count": 19,
   "metadata": {
    "collapsed": false
   },
   "outputs": [
    {
     "data": {
      "text/plain": [
       "[\"{u'_id': u'China Merchants Bank', u'count': 2}\",\n",
       " \"{u'_id': u'ICBC', u'count': 2}\",\n",
       " \"{u'_id': u'Bank of China', u'count': 1}\",\n",
       " \"{u'_id': u'BANK OF NANJING', u'count': 1}\",\n",
       " \"{u'_id': u'CCB', u'count': 1}\"]"
      ]
     },
     "execution_count": 19,
     "metadata": {},
     "output_type": "execute_result"
    }
   ],
   "source": [
    "#count the number of the banks and display the top 5 amenity\n",
    "#Top 5 bank \n",
    "top_5_bank = coll.aggregate([{'$match':{'amenity':'bank','name.en':{'$exists':1}}},\n",
    "                                   {'$group':{'_id':'$name.en',\n",
    "                                             'count':{'$sum':1}}},\n",
    "                                   {'$sort':{'count':-1}},\n",
    "                                   {'$limit':5}])\n",
    "[pprinter.pformat(b) for b in top_5_bank]"
   ]
  },
  {
   "cell_type": "code",
   "execution_count": 131,
   "metadata": {
    "collapsed": false
   },
   "outputs": [
    {
     "data": {
      "text/plain": [
       "[\"{u'_id': u'residential', u'count': 4204}\",\n",
       " \"{u'_id': u'tertiary', u'count': 2831}\",\n",
       " \"{u'_id': u'service', u'count': 2437}\",\n",
       " \"{u'_id': u'unclassified', u'count': 2264}\",\n",
       " \"{u'_id': u'secondary', u'count': 2156}\",\n",
       " \"{u'_id': u'primary', u'count': 1551}\",\n",
       " \"{u'_id': u'motorway', u'count': 1271}\",\n",
       " \"{u'_id': u'motorway_link', u'count': 798}\",\n",
       " \"{u'_id': u'footway', u'count': 748}\",\n",
       " \"{u'_id': u'bus_stop', u'count': 576}\"]"
      ]
     },
     "execution_count": 131,
     "metadata": {},
     "output_type": "execute_result"
    }
   ],
   "source": [
    "#count the number of different highways and display the top 10 highway\n",
    "#Top 10 highway\n",
    "top_10_highway = coll.aggregate([{'$match':{'highway':{'$exists':1}}},\n",
    "                                   {'$group':{'_id':'$highway',\n",
    "                                             'count':{'$sum':1}}},\n",
    "                                   {'$sort':{'count':-1}},\n",
    "                                   {'$limit':10}])\n",
    "[pprinter.pformat(h) for h in top_10_highway]"
   ]
  },
  {
   "cell_type": "code",
   "execution_count": null,
   "metadata": {
    "collapsed": true
   },
   "outputs": [],
   "source": []
  }
 ],
 "metadata": {
  "kernelspec": {
   "display_name": "Python 2",
   "language": "python",
   "name": "python2"
  },
  "language_info": {
   "codemirror_mode": {
    "name": "ipython",
    "version": 2
   },
   "file_extension": ".py",
   "mimetype": "text/x-python",
   "name": "python",
   "nbconvert_exporter": "python",
   "pygments_lexer": "ipython2",
   "version": "2.7.12"
  }
 },
 "nbformat": 4,
 "nbformat_minor": 0
}
